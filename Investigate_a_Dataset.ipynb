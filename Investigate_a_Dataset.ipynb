{
 "cells": [
  {
   "cell_type": "markdown",
   "metadata": {},
   "source": [
    "# Investigate TMDb Movie Database\n",
    "\n",
    "### The primary goal of this project is to practice going through the general data analysis process in investigating a dataset from The Movie Database (TMDb)\n",
    "\n",
    "## Table of Contents\n",
    "<ul>\n",
    "<li><a href=\"#intro\">Introduction</a></li>\n",
    "<li><a href=\"#wrangling\">Data Wrangling</a></li>\n",
    "<li><a href=\"#eda\">Exploratory Data Analysis</a></li>\n",
    "<li><a href=\"#conclusions\">Conclusions</a></li>\n",
    "</ul>"
   ]
  },
  {
   "cell_type": "markdown",
   "metadata": {},
   "source": [
    "<a id='intro'></a>\n",
    "## Introduction\n",
    "\n",
    "In this project, I have selected a dataset containing information about 10,000 movies from The Movie Database (TMDb). The data contains basic movie information, such as cast, keywords, production companies, runtime, etc and some movie metrics that show how popular the movies are: popularity, user ratings, revenue data. The movie dataset contains data for movies released in 1960 until 2015.\n",
    "\n",
    "Here are some questions that I plan to answer using the dataset:\n",
    ">1. How is the trend of the number of movies released year by year?\n",
    ">2. Which movie companies have been successful in collecting more revenues?\n",
    ">3. Which genres are more popular from year to year?\n",
    ">4. Does specific actor/actress contribute to more success?\n",
    ">5. Does the release month affect the popularity of the movie?"
   ]
  },
  {
   "cell_type": "code",
   "execution_count": 1,
   "metadata": {},
   "outputs": [],
   "source": [
    "# Import all of the packages used in this project.\n",
    "import pandas as pd\n",
    "import numpy as np\n",
    "import matplotlib.pyplot as plt\n",
    "%matplotlib inline"
   ]
  },
  {
   "cell_type": "markdown",
   "metadata": {},
   "source": [
    "<a id='wrangling'></a>\n",
    "## Data Wrangling\n",
    "\n",
    "In this section of the report, I loaded in the data, checked for cleanliness, and then cleaned my dataset for analysis. I have included all the necessary details and justifications on the steps I took.\n",
    "\n",
    "### General Properties"
   ]
  },
  {
   "cell_type": "code",
   "execution_count": 2,
   "metadata": {},
   "outputs": [
    {
     "data": {
      "text/html": [
       "<div>\n",
       "<style>\n",
       "    .dataframe thead tr:only-child th {\n",
       "        text-align: right;\n",
       "    }\n",
       "\n",
       "    .dataframe thead th {\n",
       "        text-align: left;\n",
       "    }\n",
       "\n",
       "    .dataframe tbody tr th {\n",
       "        vertical-align: top;\n",
       "    }\n",
       "</style>\n",
       "<table border=\"1\" class=\"dataframe\">\n",
       "  <thead>\n",
       "    <tr style=\"text-align: right;\">\n",
       "      <th></th>\n",
       "      <th>id</th>\n",
       "      <th>imdb_id</th>\n",
       "      <th>popularity</th>\n",
       "      <th>budget</th>\n",
       "      <th>revenue</th>\n",
       "      <th>original_title</th>\n",
       "      <th>cast</th>\n",
       "      <th>homepage</th>\n",
       "      <th>director</th>\n",
       "      <th>tagline</th>\n",
       "      <th>...</th>\n",
       "      <th>overview</th>\n",
       "      <th>runtime</th>\n",
       "      <th>genres</th>\n",
       "      <th>production_companies</th>\n",
       "      <th>release_date</th>\n",
       "      <th>vote_count</th>\n",
       "      <th>vote_average</th>\n",
       "      <th>release_year</th>\n",
       "      <th>budget_adj</th>\n",
       "      <th>revenue_adj</th>\n",
       "    </tr>\n",
       "  </thead>\n",
       "  <tbody>\n",
       "    <tr>\n",
       "      <th>0</th>\n",
       "      <td>135397</td>\n",
       "      <td>tt0369610</td>\n",
       "      <td>32.985763</td>\n",
       "      <td>150000000</td>\n",
       "      <td>1513528810</td>\n",
       "      <td>Jurassic World</td>\n",
       "      <td>Chris Pratt|Bryce Dallas Howard|Irrfan Khan|Vi...</td>\n",
       "      <td>http://www.jurassicworld.com/</td>\n",
       "      <td>Colin Trevorrow</td>\n",
       "      <td>The park is open.</td>\n",
       "      <td>...</td>\n",
       "      <td>Twenty-two years after the events of Jurassic ...</td>\n",
       "      <td>124</td>\n",
       "      <td>Action|Adventure|Science Fiction|Thriller</td>\n",
       "      <td>Universal Studios|Amblin Entertainment|Legenda...</td>\n",
       "      <td>6/9/15</td>\n",
       "      <td>5562</td>\n",
       "      <td>6.5</td>\n",
       "      <td>2015</td>\n",
       "      <td>1.379999e+08</td>\n",
       "      <td>1.392446e+09</td>\n",
       "    </tr>\n",
       "    <tr>\n",
       "      <th>1</th>\n",
       "      <td>76341</td>\n",
       "      <td>tt1392190</td>\n",
       "      <td>28.419936</td>\n",
       "      <td>150000000</td>\n",
       "      <td>378436354</td>\n",
       "      <td>Mad Max: Fury Road</td>\n",
       "      <td>Tom Hardy|Charlize Theron|Hugh Keays-Byrne|Nic...</td>\n",
       "      <td>http://www.madmaxmovie.com/</td>\n",
       "      <td>George Miller</td>\n",
       "      <td>What a Lovely Day.</td>\n",
       "      <td>...</td>\n",
       "      <td>An apocalyptic story set in the furthest reach...</td>\n",
       "      <td>120</td>\n",
       "      <td>Action|Adventure|Science Fiction|Thriller</td>\n",
       "      <td>Village Roadshow Pictures|Kennedy Miller Produ...</td>\n",
       "      <td>5/13/15</td>\n",
       "      <td>6185</td>\n",
       "      <td>7.1</td>\n",
       "      <td>2015</td>\n",
       "      <td>1.379999e+08</td>\n",
       "      <td>3.481613e+08</td>\n",
       "    </tr>\n",
       "    <tr>\n",
       "      <th>2</th>\n",
       "      <td>262500</td>\n",
       "      <td>tt2908446</td>\n",
       "      <td>13.112507</td>\n",
       "      <td>110000000</td>\n",
       "      <td>295238201</td>\n",
       "      <td>Insurgent</td>\n",
       "      <td>Shailene Woodley|Theo James|Kate Winslet|Ansel...</td>\n",
       "      <td>http://www.thedivergentseries.movie/#insurgent</td>\n",
       "      <td>Robert Schwentke</td>\n",
       "      <td>One Choice Can Destroy You</td>\n",
       "      <td>...</td>\n",
       "      <td>Beatrice Prior must confront her inner demons ...</td>\n",
       "      <td>119</td>\n",
       "      <td>Adventure|Science Fiction|Thriller</td>\n",
       "      <td>Summit Entertainment|Mandeville Films|Red Wago...</td>\n",
       "      <td>3/18/15</td>\n",
       "      <td>2480</td>\n",
       "      <td>6.3</td>\n",
       "      <td>2015</td>\n",
       "      <td>1.012000e+08</td>\n",
       "      <td>2.716190e+08</td>\n",
       "    </tr>\n",
       "    <tr>\n",
       "      <th>3</th>\n",
       "      <td>140607</td>\n",
       "      <td>tt2488496</td>\n",
       "      <td>11.173104</td>\n",
       "      <td>200000000</td>\n",
       "      <td>2068178225</td>\n",
       "      <td>Star Wars: The Force Awakens</td>\n",
       "      <td>Harrison Ford|Mark Hamill|Carrie Fisher|Adam D...</td>\n",
       "      <td>http://www.starwars.com/films/star-wars-episod...</td>\n",
       "      <td>J.J. Abrams</td>\n",
       "      <td>Every generation has a story.</td>\n",
       "      <td>...</td>\n",
       "      <td>Thirty years after defeating the Galactic Empi...</td>\n",
       "      <td>136</td>\n",
       "      <td>Action|Adventure|Science Fiction|Fantasy</td>\n",
       "      <td>Lucasfilm|Truenorth Productions|Bad Robot</td>\n",
       "      <td>12/15/15</td>\n",
       "      <td>5292</td>\n",
       "      <td>7.5</td>\n",
       "      <td>2015</td>\n",
       "      <td>1.839999e+08</td>\n",
       "      <td>1.902723e+09</td>\n",
       "    </tr>\n",
       "    <tr>\n",
       "      <th>4</th>\n",
       "      <td>168259</td>\n",
       "      <td>tt2820852</td>\n",
       "      <td>9.335014</td>\n",
       "      <td>190000000</td>\n",
       "      <td>1506249360</td>\n",
       "      <td>Furious 7</td>\n",
       "      <td>Vin Diesel|Paul Walker|Jason Statham|Michelle ...</td>\n",
       "      <td>http://www.furious7.com/</td>\n",
       "      <td>James Wan</td>\n",
       "      <td>Vengeance Hits Home</td>\n",
       "      <td>...</td>\n",
       "      <td>Deckard Shaw seeks revenge against Dominic Tor...</td>\n",
       "      <td>137</td>\n",
       "      <td>Action|Crime|Thriller</td>\n",
       "      <td>Universal Pictures|Original Film|Media Rights ...</td>\n",
       "      <td>4/1/15</td>\n",
       "      <td>2947</td>\n",
       "      <td>7.3</td>\n",
       "      <td>2015</td>\n",
       "      <td>1.747999e+08</td>\n",
       "      <td>1.385749e+09</td>\n",
       "    </tr>\n",
       "  </tbody>\n",
       "</table>\n",
       "<p>5 rows × 21 columns</p>\n",
       "</div>"
      ],
      "text/plain": [
       "       id    imdb_id  popularity     budget     revenue  \\\n",
       "0  135397  tt0369610   32.985763  150000000  1513528810   \n",
       "1   76341  tt1392190   28.419936  150000000   378436354   \n",
       "2  262500  tt2908446   13.112507  110000000   295238201   \n",
       "3  140607  tt2488496   11.173104  200000000  2068178225   \n",
       "4  168259  tt2820852    9.335014  190000000  1506249360   \n",
       "\n",
       "                 original_title  \\\n",
       "0                Jurassic World   \n",
       "1            Mad Max: Fury Road   \n",
       "2                     Insurgent   \n",
       "3  Star Wars: The Force Awakens   \n",
       "4                     Furious 7   \n",
       "\n",
       "                                                cast  \\\n",
       "0  Chris Pratt|Bryce Dallas Howard|Irrfan Khan|Vi...   \n",
       "1  Tom Hardy|Charlize Theron|Hugh Keays-Byrne|Nic...   \n",
       "2  Shailene Woodley|Theo James|Kate Winslet|Ansel...   \n",
       "3  Harrison Ford|Mark Hamill|Carrie Fisher|Adam D...   \n",
       "4  Vin Diesel|Paul Walker|Jason Statham|Michelle ...   \n",
       "\n",
       "                                            homepage          director  \\\n",
       "0                      http://www.jurassicworld.com/   Colin Trevorrow   \n",
       "1                        http://www.madmaxmovie.com/     George Miller   \n",
       "2     http://www.thedivergentseries.movie/#insurgent  Robert Schwentke   \n",
       "3  http://www.starwars.com/films/star-wars-episod...       J.J. Abrams   \n",
       "4                           http://www.furious7.com/         James Wan   \n",
       "\n",
       "                         tagline      ...       \\\n",
       "0              The park is open.      ...        \n",
       "1             What a Lovely Day.      ...        \n",
       "2     One Choice Can Destroy You      ...        \n",
       "3  Every generation has a story.      ...        \n",
       "4            Vengeance Hits Home      ...        \n",
       "\n",
       "                                            overview runtime  \\\n",
       "0  Twenty-two years after the events of Jurassic ...     124   \n",
       "1  An apocalyptic story set in the furthest reach...     120   \n",
       "2  Beatrice Prior must confront her inner demons ...     119   \n",
       "3  Thirty years after defeating the Galactic Empi...     136   \n",
       "4  Deckard Shaw seeks revenge against Dominic Tor...     137   \n",
       "\n",
       "                                      genres  \\\n",
       "0  Action|Adventure|Science Fiction|Thriller   \n",
       "1  Action|Adventure|Science Fiction|Thriller   \n",
       "2         Adventure|Science Fiction|Thriller   \n",
       "3   Action|Adventure|Science Fiction|Fantasy   \n",
       "4                      Action|Crime|Thriller   \n",
       "\n",
       "                                production_companies release_date vote_count  \\\n",
       "0  Universal Studios|Amblin Entertainment|Legenda...       6/9/15       5562   \n",
       "1  Village Roadshow Pictures|Kennedy Miller Produ...      5/13/15       6185   \n",
       "2  Summit Entertainment|Mandeville Films|Red Wago...      3/18/15       2480   \n",
       "3          Lucasfilm|Truenorth Productions|Bad Robot     12/15/15       5292   \n",
       "4  Universal Pictures|Original Film|Media Rights ...       4/1/15       2947   \n",
       "\n",
       "   vote_average  release_year    budget_adj   revenue_adj  \n",
       "0           6.5          2015  1.379999e+08  1.392446e+09  \n",
       "1           7.1          2015  1.379999e+08  3.481613e+08  \n",
       "2           6.3          2015  1.012000e+08  2.716190e+08  \n",
       "3           7.5          2015  1.839999e+08  1.902723e+09  \n",
       "4           7.3          2015  1.747999e+08  1.385749e+09  \n",
       "\n",
       "[5 rows x 21 columns]"
      ]
     },
     "execution_count": 2,
     "metadata": {},
     "output_type": "execute_result"
    }
   ],
   "source": [
    "# Load my data and print out a few lines\n",
    "movie_data = pd.read_csv('tmdb-movies.csv')\n",
    "movie_data.head()"
   ]
  },
  {
   "cell_type": "markdown",
   "metadata": {},
   "source": [
    "The data itself can be considered neat, except some columns (cast, genres, and production companies have multiple values separated by '|' for each movie). "
   ]
  },
  {
   "cell_type": "code",
   "execution_count": 3,
   "metadata": {},
   "outputs": [
    {
     "name": "stdout",
     "output_type": "stream",
     "text": [
      "<class 'pandas.core.frame.DataFrame'>\n",
      "RangeIndex: 10866 entries, 0 to 10865\n",
      "Data columns (total 21 columns):\n",
      "id                      10866 non-null int64\n",
      "imdb_id                 10856 non-null object\n",
      "popularity              10866 non-null float64\n",
      "budget                  10866 non-null int64\n",
      "revenue                 10866 non-null int64\n",
      "original_title          10866 non-null object\n",
      "cast                    10790 non-null object\n",
      "homepage                2936 non-null object\n",
      "director                10822 non-null object\n",
      "tagline                 8042 non-null object\n",
      "keywords                9373 non-null object\n",
      "overview                10862 non-null object\n",
      "runtime                 10866 non-null int64\n",
      "genres                  10843 non-null object\n",
      "production_companies    9836 non-null object\n",
      "release_date            10866 non-null object\n",
      "vote_count              10866 non-null int64\n",
      "vote_average            10866 non-null float64\n",
      "release_year            10866 non-null int64\n",
      "budget_adj              10866 non-null float64\n",
      "revenue_adj             10866 non-null float64\n",
      "dtypes: float64(4), int64(6), object(11)\n",
      "memory usage: 1.7+ MB\n"
     ]
    }
   ],
   "source": [
    "# Perform operations to inspect data types and look for instances of missing or possibly errant data.\n",
    "movie_data.info()"
   ]
  },
  {
   "cell_type": "code",
   "execution_count": 4,
   "metadata": {},
   "outputs": [
    {
     "data": {
      "text/plain": [
       "1"
      ]
     },
     "execution_count": 4,
     "metadata": {},
     "output_type": "execute_result"
    }
   ],
   "source": [
    "# Check if there is any row duplicated in the dataset\n",
    "sum(movie_data.duplicated())"
   ]
  },
  {
   "cell_type": "code",
   "execution_count": 5,
   "metadata": {},
   "outputs": [],
   "source": [
    "# Drop the duplicate row so it will not be counted twice in the analysis\n",
    "movie_data.drop_duplicates(inplace = True)"
   ]
  },
  {
   "cell_type": "markdown",
   "metadata": {},
   "source": [
    "I have decided to drop several extraneous columns that are not going to be used in my analysis; I will use the adjusted revenue column in order to standardize the revenue values."
   ]
  },
  {
   "cell_type": "code",
   "execution_count": 6,
   "metadata": {},
   "outputs": [
    {
     "name": "stdout",
     "output_type": "stream",
     "text": [
      "<class 'pandas.core.frame.DataFrame'>\n",
      "Int64Index: 10865 entries, 0 to 10865\n",
      "Data columns (total 14 columns):\n",
      "id                      10865 non-null int64\n",
      "popularity              10865 non-null float64\n",
      "original_title          10865 non-null object\n",
      "cast                    10789 non-null object\n",
      "director                10821 non-null object\n",
      "runtime                 10865 non-null int64\n",
      "genres                  10842 non-null object\n",
      "production_companies    9835 non-null object\n",
      "release_date            10865 non-null object\n",
      "vote_count              10865 non-null int64\n",
      "vote_average            10865 non-null float64\n",
      "release_year            10865 non-null int64\n",
      "budget_adj              10865 non-null float64\n",
      "revenue_adj             10865 non-null float64\n",
      "dtypes: float64(4), int64(4), object(6)\n",
      "memory usage: 1.2+ MB\n"
     ]
    }
   ],
   "source": [
    "# Drop extraneous columns (not useful columns in this analysis)\n",
    "movie_data.drop(['imdb_id', 'tagline', 'homepage', 'overview', 'keywords', 'budget', 'revenue'], axis = 1, inplace = True)\n",
    "movie_data.info()"
   ]
  },
  {
   "cell_type": "code",
   "execution_count": 7,
   "metadata": {},
   "outputs": [
    {
     "data": {
      "text/html": [
       "<div>\n",
       "<style>\n",
       "    .dataframe thead tr:only-child th {\n",
       "        text-align: right;\n",
       "    }\n",
       "\n",
       "    .dataframe thead th {\n",
       "        text-align: left;\n",
       "    }\n",
       "\n",
       "    .dataframe tbody tr th {\n",
       "        vertical-align: top;\n",
       "    }\n",
       "</style>\n",
       "<table border=\"1\" class=\"dataframe\">\n",
       "  <thead>\n",
       "    <tr style=\"text-align: right;\">\n",
       "      <th></th>\n",
       "      <th>id</th>\n",
       "      <th>popularity</th>\n",
       "      <th>original_title</th>\n",
       "      <th>cast</th>\n",
       "      <th>director</th>\n",
       "      <th>runtime</th>\n",
       "      <th>genres</th>\n",
       "      <th>production_companies</th>\n",
       "      <th>release_date</th>\n",
       "      <th>vote_count</th>\n",
       "      <th>vote_average</th>\n",
       "      <th>release_year</th>\n",
       "      <th>budget_adj</th>\n",
       "      <th>revenue_adj</th>\n",
       "    </tr>\n",
       "  </thead>\n",
       "  <tbody>\n",
       "    <tr>\n",
       "      <th>0</th>\n",
       "      <td>135397</td>\n",
       "      <td>32.985763</td>\n",
       "      <td>Jurassic World</td>\n",
       "      <td>Chris Pratt|Bryce Dallas Howard|Irrfan Khan|Vi...</td>\n",
       "      <td>Colin Trevorrow</td>\n",
       "      <td>124</td>\n",
       "      <td>Action|Adventure|Science Fiction|Thriller</td>\n",
       "      <td>Universal Studios|Amblin Entertainment|Legenda...</td>\n",
       "      <td>6/9/15</td>\n",
       "      <td>5562</td>\n",
       "      <td>6.5</td>\n",
       "      <td>2015</td>\n",
       "      <td>1.379999e+08</td>\n",
       "      <td>1.392446e+09</td>\n",
       "    </tr>\n",
       "  </tbody>\n",
       "</table>\n",
       "</div>"
      ],
      "text/plain": [
       "       id  popularity  original_title  \\\n",
       "0  135397   32.985763  Jurassic World   \n",
       "\n",
       "                                                cast         director  \\\n",
       "0  Chris Pratt|Bryce Dallas Howard|Irrfan Khan|Vi...  Colin Trevorrow   \n",
       "\n",
       "   runtime                                     genres  \\\n",
       "0      124  Action|Adventure|Science Fiction|Thriller   \n",
       "\n",
       "                                production_companies release_date  vote_count  \\\n",
       "0  Universal Studios|Amblin Entertainment|Legenda...       6/9/15        5562   \n",
       "\n",
       "   vote_average  release_year    budget_adj   revenue_adj  \n",
       "0           6.5          2015  1.379999e+08  1.392446e+09  "
      ]
     },
     "execution_count": 7,
     "metadata": {},
     "output_type": "execute_result"
    }
   ],
   "source": [
    "# Drop any rows that contain missing values\n",
    "movie_data.dropna(inplace = True)\n",
    "movie_data.head(1)"
   ]
  },
  {
   "cell_type": "markdown",
   "metadata": {},
   "source": [
    "### Basic Data Wrangling Summary:\n",
    "> 1. Drop duplicate row\n",
    "> 2. Remove extraneous columns\n",
    "> 3. Drop rows that contain missing values"
   ]
  },
  {
   "cell_type": "markdown",
   "metadata": {},
   "source": [
    "## Cleaning Data\n",
    "\n",
    "In order to answer my questions, I will trim the cast data into only 1 value (the first cast name for each movie: the main actor/actress playing the movie). I will do the same for the production companies column (keep only the main production company) and rename the column to 'production_company'.\n",
    "\n",
    "For the genres column, I will split the row with multiple genres into separate rows containing only 1 genre, for example a movie with 4 genres: Adventure|Science|Fiction|Thriller will be splitted into 4 rows, with the first row containing genre Adventure, second row Science, and so on.\n",
    "\n",
    "The last data cleaning activity I will do is to extract the release month for each movie from the release_date column.\n",
    "\n",
    "### Cleaning Data (Trim Cast Name and Production Company)"
   ]
  },
  {
   "cell_type": "code",
   "execution_count": 8,
   "metadata": {},
   "outputs": [
    {
     "data": {
      "text/html": [
       "<div>\n",
       "<style>\n",
       "    .dataframe thead tr:only-child th {\n",
       "        text-align: right;\n",
       "    }\n",
       "\n",
       "    .dataframe thead th {\n",
       "        text-align: left;\n",
       "    }\n",
       "\n",
       "    .dataframe tbody tr th {\n",
       "        vertical-align: top;\n",
       "    }\n",
       "</style>\n",
       "<table border=\"1\" class=\"dataframe\">\n",
       "  <thead>\n",
       "    <tr style=\"text-align: right;\">\n",
       "      <th></th>\n",
       "      <th>id</th>\n",
       "      <th>popularity</th>\n",
       "      <th>original_title</th>\n",
       "      <th>cast</th>\n",
       "      <th>director</th>\n",
       "      <th>runtime</th>\n",
       "      <th>genres</th>\n",
       "      <th>production_company</th>\n",
       "      <th>release_date</th>\n",
       "      <th>vote_count</th>\n",
       "      <th>vote_average</th>\n",
       "      <th>release_year</th>\n",
       "      <th>budget_adj</th>\n",
       "      <th>revenue_adj</th>\n",
       "    </tr>\n",
       "  </thead>\n",
       "  <tbody>\n",
       "    <tr>\n",
       "      <th>0</th>\n",
       "      <td>135397</td>\n",
       "      <td>32.985763</td>\n",
       "      <td>Jurassic World</td>\n",
       "      <td>Chris Pratt</td>\n",
       "      <td>Colin Trevorrow</td>\n",
       "      <td>124</td>\n",
       "      <td>Action|Adventure|Science Fiction|Thriller</td>\n",
       "      <td>Universal Studios</td>\n",
       "      <td>6/9/15</td>\n",
       "      <td>5562</td>\n",
       "      <td>6.5</td>\n",
       "      <td>2015</td>\n",
       "      <td>1.379999e+08</td>\n",
       "      <td>1.392446e+09</td>\n",
       "    </tr>\n",
       "  </tbody>\n",
       "</table>\n",
       "</div>"
      ],
      "text/plain": [
       "       id  popularity  original_title         cast         director  runtime  \\\n",
       "0  135397   32.985763  Jurassic World  Chris Pratt  Colin Trevorrow      124   \n",
       "\n",
       "                                      genres production_company release_date  \\\n",
       "0  Action|Adventure|Science Fiction|Thriller  Universal Studios       6/9/15   \n",
       "\n",
       "   vote_count  vote_average  release_year    budget_adj   revenue_adj  \n",
       "0        5562           6.5          2015  1.379999e+08  1.392446e+09  "
      ]
     },
     "execution_count": 8,
     "metadata": {},
     "output_type": "execute_result"
    }
   ],
   "source": [
    "# Extract the first entry in the cast and production companies column\n",
    "split_columns = ['cast', 'production_companies']\n",
    "for c in split_columns:\n",
    "    movie_data[c] = movie_data[c].apply(lambda x: x.split(\"|\")[0])\n",
    "\n",
    "# Rename production_companies column\n",
    "movie_data = movie_data.rename(columns = {'production_companies': 'production_company'})\n",
    "\n",
    "movie_data.head(1)"
   ]
  },
  {
   "cell_type": "markdown",
   "metadata": {
    "collapsed": true
   },
   "source": [
    "### Cleaning Data (Split Rows with Multiple Genres)\n",
    "\n",
    "In this step, I used the stacking & unstacking method to split the genres column into several rows so that each row will only have 1 type of genre."
   ]
  },
  {
   "cell_type": "code",
   "execution_count": 9,
   "metadata": {},
   "outputs": [
    {
     "data": {
      "text/html": [
       "<div>\n",
       "<style>\n",
       "    .dataframe thead tr:only-child th {\n",
       "        text-align: right;\n",
       "    }\n",
       "\n",
       "    .dataframe thead th {\n",
       "        text-align: left;\n",
       "    }\n",
       "\n",
       "    .dataframe tbody tr th {\n",
       "        vertical-align: top;\n",
       "    }\n",
       "</style>\n",
       "<table border=\"1\" class=\"dataframe\">\n",
       "  <thead>\n",
       "    <tr style=\"text-align: right;\">\n",
       "      <th></th>\n",
       "      <th>id</th>\n",
       "      <th>popularity</th>\n",
       "      <th>original_title</th>\n",
       "      <th>cast</th>\n",
       "      <th>director</th>\n",
       "      <th>runtime</th>\n",
       "      <th>production_company</th>\n",
       "      <th>release_date</th>\n",
       "      <th>vote_count</th>\n",
       "      <th>vote_average</th>\n",
       "      <th>release_year</th>\n",
       "      <th>budget_adj</th>\n",
       "      <th>revenue_adj</th>\n",
       "      <th>genres</th>\n",
       "    </tr>\n",
       "  </thead>\n",
       "  <tbody>\n",
       "    <tr>\n",
       "      <th>0</th>\n",
       "      <td>5</td>\n",
       "      <td>1.23489</td>\n",
       "      <td>Four Rooms</td>\n",
       "      <td>Tim Roth</td>\n",
       "      <td>Allison Anders|Alexandre Rockwell|Robert Rodri...</td>\n",
       "      <td>98</td>\n",
       "      <td>Miramax Films</td>\n",
       "      <td>12/25/95</td>\n",
       "      <td>293</td>\n",
       "      <td>6.4</td>\n",
       "      <td>1995</td>\n",
       "      <td>5.723867e+06</td>\n",
       "      <td>6.153158e+06</td>\n",
       "      <td>Comedy</td>\n",
       "    </tr>\n",
       "  </tbody>\n",
       "</table>\n",
       "</div>"
      ],
      "text/plain": [
       "   id  popularity original_title      cast  \\\n",
       "0   5     1.23489     Four Rooms  Tim Roth   \n",
       "\n",
       "                                            director  runtime  \\\n",
       "0  Allison Anders|Alexandre Rockwell|Robert Rodri...       98   \n",
       "\n",
       "  production_company release_date  vote_count  vote_average  release_year  \\\n",
       "0      Miramax Films     12/25/95         293           6.4          1995   \n",
       "\n",
       "     budget_adj   revenue_adj  genres  \n",
       "0  5.723867e+06  6.153158e+06  Comedy  "
      ]
     },
     "execution_count": 9,
     "metadata": {},
     "output_type": "execute_result"
    }
   ],
   "source": [
    "# Split genres column into several rows\n",
    "movie_data_split = (movie_data.set_index(['id', 'popularity', 'original_title', 'cast', 'director', 'runtime', 'production_company', 'release_date', 'vote_count', 'vote_average', 'release_year', 'budget_adj', 'revenue_adj'])\n",
    "   .stack()\n",
    "   .str.split('|', expand=True)\n",
    "   .stack()\n",
    "   .unstack(-2)\n",
    "   .reset_index(-1, drop=True)\n",
    "   .reset_index()\n",
    ")\n",
    "\n",
    "movie_data_split.head(1)"
   ]
  },
  {
   "cell_type": "markdown",
   "metadata": {},
   "source": [
    "### Cleaning Data (Extract Release Month)\n",
    "\n",
    "I extracted the release month from release date column by using datetimeindex function in pandas."
   ]
  },
  {
   "cell_type": "code",
   "execution_count": 13,
   "metadata": {},
   "outputs": [
    {
     "data": {
      "text/html": [
       "<div>\n",
       "<style>\n",
       "    .dataframe thead tr:only-child th {\n",
       "        text-align: right;\n",
       "    }\n",
       "\n",
       "    .dataframe thead th {\n",
       "        text-align: left;\n",
       "    }\n",
       "\n",
       "    .dataframe tbody tr th {\n",
       "        vertical-align: top;\n",
       "    }\n",
       "</style>\n",
       "<table border=\"1\" class=\"dataframe\">\n",
       "  <thead>\n",
       "    <tr style=\"text-align: right;\">\n",
       "      <th></th>\n",
       "      <th>id</th>\n",
       "      <th>popularity</th>\n",
       "      <th>original_title</th>\n",
       "      <th>cast</th>\n",
       "      <th>director</th>\n",
       "      <th>runtime</th>\n",
       "      <th>genres</th>\n",
       "      <th>production_company</th>\n",
       "      <th>release_date</th>\n",
       "      <th>vote_count</th>\n",
       "      <th>vote_average</th>\n",
       "      <th>release_year</th>\n",
       "      <th>budget_adj</th>\n",
       "      <th>revenue_adj</th>\n",
       "      <th>release_month</th>\n",
       "    </tr>\n",
       "  </thead>\n",
       "  <tbody>\n",
       "    <tr>\n",
       "      <th>0</th>\n",
       "      <td>135397</td>\n",
       "      <td>32.985763</td>\n",
       "      <td>Jurassic World</td>\n",
       "      <td>Chris Pratt</td>\n",
       "      <td>Colin Trevorrow</td>\n",
       "      <td>124</td>\n",
       "      <td>Action|Adventure|Science Fiction|Thriller</td>\n",
       "      <td>Universal Studios</td>\n",
       "      <td>6/9/15</td>\n",
       "      <td>5562</td>\n",
       "      <td>6.5</td>\n",
       "      <td>2015</td>\n",
       "      <td>1.379999e+08</td>\n",
       "      <td>1.392446e+09</td>\n",
       "      <td>6</td>\n",
       "    </tr>\n",
       "    <tr>\n",
       "      <th>1</th>\n",
       "      <td>76341</td>\n",
       "      <td>28.419936</td>\n",
       "      <td>Mad Max: Fury Road</td>\n",
       "      <td>Tom Hardy</td>\n",
       "      <td>George Miller</td>\n",
       "      <td>120</td>\n",
       "      <td>Action|Adventure|Science Fiction|Thriller</td>\n",
       "      <td>Village Roadshow Pictures</td>\n",
       "      <td>5/13/15</td>\n",
       "      <td>6185</td>\n",
       "      <td>7.1</td>\n",
       "      <td>2015</td>\n",
       "      <td>1.379999e+08</td>\n",
       "      <td>3.481613e+08</td>\n",
       "      <td>5</td>\n",
       "    </tr>\n",
       "    <tr>\n",
       "      <th>2</th>\n",
       "      <td>262500</td>\n",
       "      <td>13.112507</td>\n",
       "      <td>Insurgent</td>\n",
       "      <td>Shailene Woodley</td>\n",
       "      <td>Robert Schwentke</td>\n",
       "      <td>119</td>\n",
       "      <td>Adventure|Science Fiction|Thriller</td>\n",
       "      <td>Summit Entertainment</td>\n",
       "      <td>3/18/15</td>\n",
       "      <td>2480</td>\n",
       "      <td>6.3</td>\n",
       "      <td>2015</td>\n",
       "      <td>1.012000e+08</td>\n",
       "      <td>2.716190e+08</td>\n",
       "      <td>3</td>\n",
       "    </tr>\n",
       "    <tr>\n",
       "      <th>3</th>\n",
       "      <td>140607</td>\n",
       "      <td>11.173104</td>\n",
       "      <td>Star Wars: The Force Awakens</td>\n",
       "      <td>Harrison Ford</td>\n",
       "      <td>J.J. Abrams</td>\n",
       "      <td>136</td>\n",
       "      <td>Action|Adventure|Science Fiction|Fantasy</td>\n",
       "      <td>Lucasfilm</td>\n",
       "      <td>12/15/15</td>\n",
       "      <td>5292</td>\n",
       "      <td>7.5</td>\n",
       "      <td>2015</td>\n",
       "      <td>1.839999e+08</td>\n",
       "      <td>1.902723e+09</td>\n",
       "      <td>12</td>\n",
       "    </tr>\n",
       "    <tr>\n",
       "      <th>4</th>\n",
       "      <td>168259</td>\n",
       "      <td>9.335014</td>\n",
       "      <td>Furious 7</td>\n",
       "      <td>Vin Diesel</td>\n",
       "      <td>James Wan</td>\n",
       "      <td>137</td>\n",
       "      <td>Action|Crime|Thriller</td>\n",
       "      <td>Universal Pictures</td>\n",
       "      <td>4/1/15</td>\n",
       "      <td>2947</td>\n",
       "      <td>7.3</td>\n",
       "      <td>2015</td>\n",
       "      <td>1.747999e+08</td>\n",
       "      <td>1.385749e+09</td>\n",
       "      <td>4</td>\n",
       "    </tr>\n",
       "  </tbody>\n",
       "</table>\n",
       "</div>"
      ],
      "text/plain": [
       "       id  popularity                original_title              cast  \\\n",
       "0  135397   32.985763                Jurassic World       Chris Pratt   \n",
       "1   76341   28.419936            Mad Max: Fury Road         Tom Hardy   \n",
       "2  262500   13.112507                     Insurgent  Shailene Woodley   \n",
       "3  140607   11.173104  Star Wars: The Force Awakens     Harrison Ford   \n",
       "4  168259    9.335014                     Furious 7        Vin Diesel   \n",
       "\n",
       "           director  runtime                                     genres  \\\n",
       "0   Colin Trevorrow      124  Action|Adventure|Science Fiction|Thriller   \n",
       "1     George Miller      120  Action|Adventure|Science Fiction|Thriller   \n",
       "2  Robert Schwentke      119         Adventure|Science Fiction|Thriller   \n",
       "3       J.J. Abrams      136   Action|Adventure|Science Fiction|Fantasy   \n",
       "4         James Wan      137                      Action|Crime|Thriller   \n",
       "\n",
       "          production_company release_date  vote_count  vote_average  \\\n",
       "0          Universal Studios       6/9/15        5562           6.5   \n",
       "1  Village Roadshow Pictures      5/13/15        6185           7.1   \n",
       "2       Summit Entertainment      3/18/15        2480           6.3   \n",
       "3                  Lucasfilm     12/15/15        5292           7.5   \n",
       "4         Universal Pictures       4/1/15        2947           7.3   \n",
       "\n",
       "   release_year    budget_adj   revenue_adj  release_month  \n",
       "0          2015  1.379999e+08  1.392446e+09              6  \n",
       "1          2015  1.379999e+08  3.481613e+08              5  \n",
       "2          2015  1.012000e+08  2.716190e+08              3  \n",
       "3          2015  1.839999e+08  1.902723e+09             12  \n",
       "4          2015  1.747999e+08  1.385749e+09              4  "
      ]
     },
     "execution_count": 13,
     "metadata": {},
     "output_type": "execute_result"
    }
   ],
   "source": [
    "# Extract the month of release from release date column\n",
    "movie_data['release_month'] = pd.DatetimeIndex(movie_data['release_date']).month\n",
    "movie_data.head()"
   ]
  },
  {
   "cell_type": "markdown",
   "metadata": {},
   "source": [
    "<a id='eda'></a>\n",
    "## Exploratory Data Analysis\n",
    "\n",
    "> Now that the data has been trimmed and cleaned, I'm ready to move on to exploration. I will compute statistics and create visualizations with the goal of addressing the research questions that I posed in the Introduction section."
   ]
  },
  {
   "cell_type": "markdown",
   "metadata": {},
   "source": [
    "### Descriptive Statistics of the Movie Dataset"
   ]
  },
  {
   "cell_type": "code",
   "execution_count": 17,
   "metadata": {},
   "outputs": [
    {
     "data": {
      "text/html": [
       "<div>\n",
       "<style>\n",
       "    .dataframe thead tr:only-child th {\n",
       "        text-align: right;\n",
       "    }\n",
       "\n",
       "    .dataframe thead th {\n",
       "        text-align: left;\n",
       "    }\n",
       "\n",
       "    .dataframe tbody tr th {\n",
       "        vertical-align: top;\n",
       "    }\n",
       "</style>\n",
       "<table border=\"1\" class=\"dataframe\">\n",
       "  <thead>\n",
       "    <tr style=\"text-align: right;\">\n",
       "      <th></th>\n",
       "      <th>id</th>\n",
       "      <th>popularity</th>\n",
       "      <th>runtime</th>\n",
       "      <th>vote_count</th>\n",
       "      <th>vote_average</th>\n",
       "      <th>release_year</th>\n",
       "      <th>budget_adj</th>\n",
       "      <th>revenue_adj</th>\n",
       "      <th>release_month</th>\n",
       "    </tr>\n",
       "  </thead>\n",
       "  <tbody>\n",
       "    <tr>\n",
       "      <th>count</th>\n",
       "      <td>9772.000000</td>\n",
       "      <td>9772.000000</td>\n",
       "      <td>9772.000000</td>\n",
       "      <td>9772.000000</td>\n",
       "      <td>9772.000000</td>\n",
       "      <td>9772.000000</td>\n",
       "      <td>9.772000e+03</td>\n",
       "      <td>9.772000e+03</td>\n",
       "      <td>9772.000000</td>\n",
       "    </tr>\n",
       "    <tr>\n",
       "      <th>mean</th>\n",
       "      <td>63189.640810</td>\n",
       "      <td>0.694721</td>\n",
       "      <td>102.926627</td>\n",
       "      <td>239.312014</td>\n",
       "      <td>5.963528</td>\n",
       "      <td>2000.878428</td>\n",
       "      <td>1.941599e+07</td>\n",
       "      <td>5.705309e+07</td>\n",
       "      <td>6.875358</td>\n",
       "    </tr>\n",
       "    <tr>\n",
       "      <th>std</th>\n",
       "      <td>90718.059987</td>\n",
       "      <td>1.036931</td>\n",
       "      <td>27.877432</td>\n",
       "      <td>603.011504</td>\n",
       "      <td>0.913174</td>\n",
       "      <td>13.036794</td>\n",
       "      <td>3.566634e+07</td>\n",
       "      <td>1.514499e+08</td>\n",
       "      <td>3.410691</td>\n",
       "    </tr>\n",
       "    <tr>\n",
       "      <th>min</th>\n",
       "      <td>5.000000</td>\n",
       "      <td>0.000188</td>\n",
       "      <td>0.000000</td>\n",
       "      <td>10.000000</td>\n",
       "      <td>1.500000</td>\n",
       "      <td>1960.000000</td>\n",
       "      <td>0.000000e+00</td>\n",
       "      <td>0.000000e+00</td>\n",
       "      <td>1.000000</td>\n",
       "    </tr>\n",
       "    <tr>\n",
       "      <th>25%</th>\n",
       "      <td>10221.500000</td>\n",
       "      <td>0.232710</td>\n",
       "      <td>90.000000</td>\n",
       "      <td>18.000000</td>\n",
       "      <td>5.400000</td>\n",
       "      <td>1994.000000</td>\n",
       "      <td>0.000000e+00</td>\n",
       "      <td>0.000000e+00</td>\n",
       "      <td>4.000000</td>\n",
       "    </tr>\n",
       "    <tr>\n",
       "      <th>50%</th>\n",
       "      <td>18677.500000</td>\n",
       "      <td>0.419762</td>\n",
       "      <td>100.000000</td>\n",
       "      <td>46.000000</td>\n",
       "      <td>6.000000</td>\n",
       "      <td>2005.000000</td>\n",
       "      <td>3.061342e+05</td>\n",
       "      <td>0.000000e+00</td>\n",
       "      <td>7.000000</td>\n",
       "    </tr>\n",
       "    <tr>\n",
       "      <th>75%</th>\n",
       "      <td>70577.250000</td>\n",
       "      <td>0.776408</td>\n",
       "      <td>112.000000</td>\n",
       "      <td>173.000000</td>\n",
       "      <td>6.600000</td>\n",
       "      <td>2011.000000</td>\n",
       "      <td>2.464268e+07</td>\n",
       "      <td>4.311848e+07</td>\n",
       "      <td>10.000000</td>\n",
       "    </tr>\n",
       "    <tr>\n",
       "      <th>max</th>\n",
       "      <td>417859.000000</td>\n",
       "      <td>32.985763</td>\n",
       "      <td>877.000000</td>\n",
       "      <td>9767.000000</td>\n",
       "      <td>8.700000</td>\n",
       "      <td>2015.000000</td>\n",
       "      <td>4.250000e+08</td>\n",
       "      <td>2.827124e+09</td>\n",
       "      <td>12.000000</td>\n",
       "    </tr>\n",
       "  </tbody>\n",
       "</table>\n",
       "</div>"
      ],
      "text/plain": [
       "                  id   popularity      runtime   vote_count  vote_average  \\\n",
       "count    9772.000000  9772.000000  9772.000000  9772.000000   9772.000000   \n",
       "mean    63189.640810     0.694721   102.926627   239.312014      5.963528   \n",
       "std     90718.059987     1.036931    27.877432   603.011504      0.913174   \n",
       "min         5.000000     0.000188     0.000000    10.000000      1.500000   \n",
       "25%     10221.500000     0.232710    90.000000    18.000000      5.400000   \n",
       "50%     18677.500000     0.419762   100.000000    46.000000      6.000000   \n",
       "75%     70577.250000     0.776408   112.000000   173.000000      6.600000   \n",
       "max    417859.000000    32.985763   877.000000  9767.000000      8.700000   \n",
       "\n",
       "       release_year    budget_adj   revenue_adj  release_month  \n",
       "count   9772.000000  9.772000e+03  9.772000e+03    9772.000000  \n",
       "mean    2000.878428  1.941599e+07  5.705309e+07       6.875358  \n",
       "std       13.036794  3.566634e+07  1.514499e+08       3.410691  \n",
       "min     1960.000000  0.000000e+00  0.000000e+00       1.000000  \n",
       "25%     1994.000000  0.000000e+00  0.000000e+00       4.000000  \n",
       "50%     2005.000000  3.061342e+05  0.000000e+00       7.000000  \n",
       "75%     2011.000000  2.464268e+07  4.311848e+07      10.000000  \n",
       "max     2015.000000  4.250000e+08  2.827124e+09      12.000000  "
      ]
     },
     "execution_count": 17,
     "metadata": {},
     "output_type": "execute_result"
    }
   ],
   "source": [
    "# Look at the descriptive statistics for the dataset\n",
    "movie_data.describe()"
   ]
  },
  {
   "cell_type": "code",
   "execution_count": 18,
   "metadata": {},
   "outputs": [
    {
     "data": {
      "text/html": [
       "<div>\n",
       "<style>\n",
       "    .dataframe thead tr:only-child th {\n",
       "        text-align: right;\n",
       "    }\n",
       "\n",
       "    .dataframe thead th {\n",
       "        text-align: left;\n",
       "    }\n",
       "\n",
       "    .dataframe tbody tr th {\n",
       "        vertical-align: top;\n",
       "    }\n",
       "</style>\n",
       "<table border=\"1\" class=\"dataframe\">\n",
       "  <thead>\n",
       "    <tr style=\"text-align: right;\">\n",
       "      <th></th>\n",
       "      <th>id</th>\n",
       "      <th>popularity</th>\n",
       "      <th>original_title</th>\n",
       "      <th>cast</th>\n",
       "      <th>director</th>\n",
       "      <th>runtime</th>\n",
       "      <th>genres</th>\n",
       "      <th>production_company</th>\n",
       "      <th>release_date</th>\n",
       "      <th>vote_count</th>\n",
       "      <th>vote_average</th>\n",
       "      <th>release_year</th>\n",
       "      <th>budget_adj</th>\n",
       "      <th>revenue_adj</th>\n",
       "      <th>release_month</th>\n",
       "    </tr>\n",
       "  </thead>\n",
       "  <tbody>\n",
       "    <tr>\n",
       "      <th>4041</th>\n",
       "      <td>150004</td>\n",
       "      <td>0.469332</td>\n",
       "      <td>Taken</td>\n",
       "      <td>Dakota Fanning</td>\n",
       "      <td>Breck Eisner|FÃ©lix EnrÃ­quez AlcalÃ¡|John Faw...</td>\n",
       "      <td>877</td>\n",
       "      <td>Science Fiction</td>\n",
       "      <td>DreamWorks</td>\n",
       "      <td>12/2/02</td>\n",
       "      <td>38</td>\n",
       "      <td>6.8</td>\n",
       "      <td>2002</td>\n",
       "      <td>0.0</td>\n",
       "      <td>0.0</td>\n",
       "      <td>12</td>\n",
       "    </tr>\n",
       "  </tbody>\n",
       "</table>\n",
       "</div>"
      ],
      "text/plain": [
       "          id  popularity original_title            cast  \\\n",
       "4041  150004    0.469332          Taken  Dakota Fanning   \n",
       "\n",
       "                                               director  runtime  \\\n",
       "4041  Breck Eisner|FÃ©lix EnrÃ­quez AlcalÃ¡|John Faw...      877   \n",
       "\n",
       "               genres production_company release_date  vote_count  \\\n",
       "4041  Science Fiction         DreamWorks      12/2/02          38   \n",
       "\n",
       "      vote_average  release_year  budget_adj  revenue_adj  release_month  \n",
       "4041           6.8          2002         0.0          0.0             12  "
      ]
     },
     "execution_count": 18,
     "metadata": {},
     "output_type": "execute_result"
    }
   ],
   "source": [
    "# See which movie has a runtime of 877\n",
    "movie_data.query('runtime == 877')"
   ]
  },
  {
   "cell_type": "code",
   "execution_count": 19,
   "metadata": {},
   "outputs": [
    {
     "data": {
      "text/html": [
       "<div>\n",
       "<style>\n",
       "    .dataframe thead tr:only-child th {\n",
       "        text-align: right;\n",
       "    }\n",
       "\n",
       "    .dataframe thead th {\n",
       "        text-align: left;\n",
       "    }\n",
       "\n",
       "    .dataframe tbody tr th {\n",
       "        vertical-align: top;\n",
       "    }\n",
       "</style>\n",
       "<table border=\"1\" class=\"dataframe\">\n",
       "  <thead>\n",
       "    <tr style=\"text-align: right;\">\n",
       "      <th></th>\n",
       "      <th>id</th>\n",
       "      <th>popularity</th>\n",
       "      <th>original_title</th>\n",
       "      <th>cast</th>\n",
       "      <th>director</th>\n",
       "      <th>runtime</th>\n",
       "      <th>genres</th>\n",
       "      <th>production_company</th>\n",
       "      <th>release_date</th>\n",
       "      <th>vote_count</th>\n",
       "      <th>vote_average</th>\n",
       "      <th>release_year</th>\n",
       "      <th>budget_adj</th>\n",
       "      <th>revenue_adj</th>\n",
       "      <th>release_month</th>\n",
       "    </tr>\n",
       "  </thead>\n",
       "  <tbody>\n",
       "    <tr>\n",
       "      <th>48</th>\n",
       "      <td>265208</td>\n",
       "      <td>2.932340</td>\n",
       "      <td>Wild Card</td>\n",
       "      <td>Jason Statham</td>\n",
       "      <td>Simon West</td>\n",
       "      <td>92</td>\n",
       "      <td>Thriller|Crime|Drama</td>\n",
       "      <td>Current Entertainment</td>\n",
       "      <td>1/14/15</td>\n",
       "      <td>481</td>\n",
       "      <td>5.3</td>\n",
       "      <td>2015</td>\n",
       "      <td>2.759999e+07</td>\n",
       "      <td>0.0</td>\n",
       "      <td>1</td>\n",
       "    </tr>\n",
       "    <tr>\n",
       "      <th>67</th>\n",
       "      <td>334074</td>\n",
       "      <td>2.331636</td>\n",
       "      <td>Survivor</td>\n",
       "      <td>Pierce Brosnan</td>\n",
       "      <td>James McTeigue</td>\n",
       "      <td>96</td>\n",
       "      <td>Crime|Thriller|Action</td>\n",
       "      <td>Nu Image Films</td>\n",
       "      <td>5/21/15</td>\n",
       "      <td>280</td>\n",
       "      <td>5.4</td>\n",
       "      <td>2015</td>\n",
       "      <td>1.839999e+07</td>\n",
       "      <td>0.0</td>\n",
       "      <td>5</td>\n",
       "    </tr>\n",
       "    <tr>\n",
       "      <th>74</th>\n",
       "      <td>347096</td>\n",
       "      <td>2.165433</td>\n",
       "      <td>Mythica: The Darkspore</td>\n",
       "      <td>Melanie Stone</td>\n",
       "      <td>Anne K. Black</td>\n",
       "      <td>108</td>\n",
       "      <td>Action|Adventure|Fantasy</td>\n",
       "      <td>Arrowstorm Entertainment</td>\n",
       "      <td>6/24/15</td>\n",
       "      <td>27</td>\n",
       "      <td>5.1</td>\n",
       "      <td>2015</td>\n",
       "      <td>0.000000e+00</td>\n",
       "      <td>0.0</td>\n",
       "      <td>6</td>\n",
       "    </tr>\n",
       "  </tbody>\n",
       "</table>\n",
       "</div>"
      ],
      "text/plain": [
       "        id  popularity          original_title            cast  \\\n",
       "48  265208    2.932340               Wild Card   Jason Statham   \n",
       "67  334074    2.331636                Survivor  Pierce Brosnan   \n",
       "74  347096    2.165433  Mythica: The Darkspore   Melanie Stone   \n",
       "\n",
       "          director  runtime                    genres  \\\n",
       "48      Simon West       92      Thriller|Crime|Drama   \n",
       "67  James McTeigue       96     Crime|Thriller|Action   \n",
       "74   Anne K. Black      108  Action|Adventure|Fantasy   \n",
       "\n",
       "          production_company release_date  vote_count  vote_average  \\\n",
       "48     Current Entertainment      1/14/15         481           5.3   \n",
       "67            Nu Image Films      5/21/15         280           5.4   \n",
       "74  Arrowstorm Entertainment      6/24/15          27           5.1   \n",
       "\n",
       "    release_year    budget_adj  revenue_adj  release_month  \n",
       "48          2015  2.759999e+07          0.0              1  \n",
       "67          2015  1.839999e+07          0.0              5  \n",
       "74          2015  0.000000e+00          0.0              6  "
      ]
     },
     "execution_count": 19,
     "metadata": {},
     "output_type": "execute_result"
    }
   ],
   "source": [
    "# See which movie has 0 revenue\n",
    "movie_data.query('revenue_adj == 0').head(3)"
   ]
  },
  {
   "cell_type": "code",
   "execution_count": 20,
   "metadata": {},
   "outputs": [
    {
     "data": {
      "text/plain": [
       "revenue_adj\n",
       "0.000000    5022\n",
       "2.370705       1\n",
       "Name: id, dtype: int64"
      ]
     },
     "execution_count": 20,
     "metadata": {},
     "output_type": "execute_result"
    }
   ],
   "source": [
    "# Count zero values in revenue column\n",
    "movie_data.groupby('revenue_adj')['id'].count().head(2)"
   ]
  },
  {
   "cell_type": "markdown",
   "metadata": {},
   "source": [
    "From the table above, there are several points that can be deduced from the dataset:\n",
    "1. There is an outlier in the popularity column since the max is 32 while the other percentiles are below 1. In the Movie Database support, the popularity matrix is measured on the unique views of the website and there is no upper limit.\n",
    "2. There is a movie that runs for 877 minutes (\"Taken\"), which is not true as the movie website lists the runtime as only 90 minutes.\n",
    "3. There are a lot of zero values in adjusted budget and adjusted revenue columns. Randomly chosen the movie 'Survivor' which has zero revenue in this dataset, I searched for the movie data in Google and found that the movie actually produced revenue, which means that this dataset contains lots of missing values for the adjuested revenue column. Since there are 5022 rows with zero values, I decided not to drop them so I will not drop too many data, instead I replaces the zero values with null."
   ]
  },
  {
   "cell_type": "code",
   "execution_count": 22,
   "metadata": {},
   "outputs": [
    {
     "data": {
      "text/html": [
       "<div>\n",
       "<style>\n",
       "    .dataframe thead tr:only-child th {\n",
       "        text-align: right;\n",
       "    }\n",
       "\n",
       "    .dataframe thead th {\n",
       "        text-align: left;\n",
       "    }\n",
       "\n",
       "    .dataframe tbody tr th {\n",
       "        vertical-align: top;\n",
       "    }\n",
       "</style>\n",
       "<table border=\"1\" class=\"dataframe\">\n",
       "  <thead>\n",
       "    <tr style=\"text-align: right;\">\n",
       "      <th></th>\n",
       "      <th>id</th>\n",
       "      <th>popularity</th>\n",
       "      <th>runtime</th>\n",
       "      <th>vote_count</th>\n",
       "      <th>vote_average</th>\n",
       "      <th>release_year</th>\n",
       "      <th>budget_adj</th>\n",
       "      <th>revenue_adj</th>\n",
       "      <th>release_month</th>\n",
       "    </tr>\n",
       "  </thead>\n",
       "  <tbody>\n",
       "    <tr>\n",
       "      <th>count</th>\n",
       "      <td>9772.000000</td>\n",
       "      <td>9772.000000</td>\n",
       "      <td>9772.000000</td>\n",
       "      <td>9772.000000</td>\n",
       "      <td>9772.000000</td>\n",
       "      <td>9772.000000</td>\n",
       "      <td>9.772000e+03</td>\n",
       "      <td>4.750000e+03</td>\n",
       "      <td>9772.000000</td>\n",
       "    </tr>\n",
       "    <tr>\n",
       "      <th>mean</th>\n",
       "      <td>63189.640810</td>\n",
       "      <td>0.694721</td>\n",
       "      <td>102.926627</td>\n",
       "      <td>239.312014</td>\n",
       "      <td>5.963528</td>\n",
       "      <td>2000.878428</td>\n",
       "      <td>1.941599e+07</td>\n",
       "      <td>1.173732e+08</td>\n",
       "      <td>6.875358</td>\n",
       "    </tr>\n",
       "    <tr>\n",
       "      <th>std</th>\n",
       "      <td>90718.059987</td>\n",
       "      <td>1.036931</td>\n",
       "      <td>27.877432</td>\n",
       "      <td>603.011504</td>\n",
       "      <td>0.913174</td>\n",
       "      <td>13.036794</td>\n",
       "      <td>3.566634e+07</td>\n",
       "      <td>2.002779e+08</td>\n",
       "      <td>3.410691</td>\n",
       "    </tr>\n",
       "    <tr>\n",
       "      <th>min</th>\n",
       "      <td>5.000000</td>\n",
       "      <td>0.000188</td>\n",
       "      <td>0.000000</td>\n",
       "      <td>10.000000</td>\n",
       "      <td>1.500000</td>\n",
       "      <td>1960.000000</td>\n",
       "      <td>0.000000e+00</td>\n",
       "      <td>2.370705e+00</td>\n",
       "      <td>1.000000</td>\n",
       "    </tr>\n",
       "    <tr>\n",
       "      <th>25%</th>\n",
       "      <td>10221.500000</td>\n",
       "      <td>0.232710</td>\n",
       "      <td>90.000000</td>\n",
       "      <td>18.000000</td>\n",
       "      <td>5.400000</td>\n",
       "      <td>1994.000000</td>\n",
       "      <td>0.000000e+00</td>\n",
       "      <td>1.163858e+07</td>\n",
       "      <td>4.000000</td>\n",
       "    </tr>\n",
       "    <tr>\n",
       "      <th>50%</th>\n",
       "      <td>18677.500000</td>\n",
       "      <td>0.419762</td>\n",
       "      <td>100.000000</td>\n",
       "      <td>46.000000</td>\n",
       "      <td>6.000000</td>\n",
       "      <td>2005.000000</td>\n",
       "      <td>3.061342e+05</td>\n",
       "      <td>4.584735e+07</td>\n",
       "      <td>7.000000</td>\n",
       "    </tr>\n",
       "    <tr>\n",
       "      <th>75%</th>\n",
       "      <td>70577.250000</td>\n",
       "      <td>0.776408</td>\n",
       "      <td>112.000000</td>\n",
       "      <td>173.000000</td>\n",
       "      <td>6.600000</td>\n",
       "      <td>2011.000000</td>\n",
       "      <td>2.464268e+07</td>\n",
       "      <td>1.349884e+08</td>\n",
       "      <td>10.000000</td>\n",
       "    </tr>\n",
       "    <tr>\n",
       "      <th>max</th>\n",
       "      <td>417859.000000</td>\n",
       "      <td>32.985763</td>\n",
       "      <td>877.000000</td>\n",
       "      <td>9767.000000</td>\n",
       "      <td>8.700000</td>\n",
       "      <td>2015.000000</td>\n",
       "      <td>4.250000e+08</td>\n",
       "      <td>2.827124e+09</td>\n",
       "      <td>12.000000</td>\n",
       "    </tr>\n",
       "  </tbody>\n",
       "</table>\n",
       "</div>"
      ],
      "text/plain": [
       "                  id   popularity      runtime   vote_count  vote_average  \\\n",
       "count    9772.000000  9772.000000  9772.000000  9772.000000   9772.000000   \n",
       "mean    63189.640810     0.694721   102.926627   239.312014      5.963528   \n",
       "std     90718.059987     1.036931    27.877432   603.011504      0.913174   \n",
       "min         5.000000     0.000188     0.000000    10.000000      1.500000   \n",
       "25%     10221.500000     0.232710    90.000000    18.000000      5.400000   \n",
       "50%     18677.500000     0.419762   100.000000    46.000000      6.000000   \n",
       "75%     70577.250000     0.776408   112.000000   173.000000      6.600000   \n",
       "max    417859.000000    32.985763   877.000000  9767.000000      8.700000   \n",
       "\n",
       "       release_year    budget_adj   revenue_adj  release_month  \n",
       "count   9772.000000  9.772000e+03  4.750000e+03    9772.000000  \n",
       "mean    2000.878428  1.941599e+07  1.173732e+08       6.875358  \n",
       "std       13.036794  3.566634e+07  2.002779e+08       3.410691  \n",
       "min     1960.000000  0.000000e+00  2.370705e+00       1.000000  \n",
       "25%     1994.000000  0.000000e+00  1.163858e+07       4.000000  \n",
       "50%     2005.000000  3.061342e+05  4.584735e+07       7.000000  \n",
       "75%     2011.000000  2.464268e+07  1.349884e+08      10.000000  \n",
       "max     2015.000000  4.250000e+08  2.827124e+09      12.000000  "
      ]
     },
     "execution_count": 22,
     "metadata": {},
     "output_type": "execute_result"
    }
   ],
   "source": [
    "# Since there are lots of zero values revenue rows, I decided not to drop them but replace the zeroes with null\n",
    "movie_data['revenue_adj'] = movie_data['revenue_adj'].replace(0, np.NaN)\n",
    "movie_data.describe()"
   ]
  },
  {
   "cell_type": "markdown",
   "metadata": {},
   "source": [
    "### 1. How is the trend of the number of movies released year by year?"
   ]
  },
  {
   "cell_type": "code",
   "execution_count": 23,
   "metadata": {},
   "outputs": [
    {
     "data": {
      "text/plain": [
       "release_year\n",
       "1960    32\n",
       "1961    30\n",
       "1962    30\n",
       "1963    34\n",
       "1964    41\n",
       "Name: id, dtype: int64"
      ]
     },
     "execution_count": 23,
     "metadata": {},
     "output_type": "execute_result"
    }
   ],
   "source": [
    "# Calculate the number of movies released per year\n",
    "movie_released = movie_data.groupby('release_year')['id'].count()\n",
    "movie_released.head()"
   ]
  },
  {
   "cell_type": "code",
   "execution_count": 24,
   "metadata": {},
   "outputs": [
    {
     "data": {
      "image/png": "[encoded data removed]",
      "text/plain": [
       "<matplotlib.figure.Figure at 0x7fc8b964e588>"
      ]
     },
     "metadata": {
      "needs_background": "light"
     },
     "output_type": "display_data"
    }
   ],
   "source": [
    "# Do some visualization to compare the number year per year\n",
    "\n",
    "# Set x-axis and y-axis\n",
    "x = movie_released.index\n",
    "y = movie_released\n",
    "\n",
    "# Plot line chart\n",
    "plt.figure(figsize = (10,5))\n",
    "plt.plot(x, y, color = 'red')\n",
    "plt.title('Number of Movies Released')\n",
    "plt.xlabel('Year')\n",
    "plt.ylabel('Number of Movies');"
   ]
  },
  {
   "cell_type": "markdown",
   "metadata": {},
   "source": [
    "From the line plot, it can be concluded that the number of movies released have been trending upwards from 1960 until 2015 with a really big jump between 2000 to 2010. According to my research, this accelerated growth can be due to increasing technology in film and more demand in movies as one of the top entertainment."
   ]
  },
  {
   "cell_type": "markdown",
   "metadata": {},
   "source": [
    "### 2. Which movie companies have been more successful in collecting revenues? "
   ]
  },
  {
   "cell_type": "markdown",
   "metadata": {
    "collapsed": true
   },
   "source": [
    "In answering this question, I will compare each production company's revenue to determine whether a specific production company is more successful than others."
   ]
  },
  {
   "cell_type": "code",
   "execution_count": 25,
   "metadata": {},
   "outputs": [],
   "source": [
    "# Extract the top 10 Production Companies with the highest Total Adjusted Revenues\n",
    "top_company = movie_data.groupby('production_company')['revenue_adj'].sum().sort_values(ascending = False).head(10)"
   ]
  },
  {
   "cell_type": "code",
   "execution_count": 26,
   "metadata": {},
   "outputs": [
    {
     "data": {
      "image/png": "[encoded data removed]",
      "text/plain": [
       "<matplotlib.figure.Figure at 0x7fc8b9644f60>"
      ]
     },
     "metadata": {
      "needs_background": "light"
     },
     "output_type": "display_data"
    }
   ],
   "source": [
    "# Create a bar plot to visualize the top 10 production companies with highest total revenues\n",
    "plot = top_company.plot(kind='bar', title='Top 10 Highest Revenue Production Companies')\n",
    "plot.set_xlabel('Production Companies')\n",
    "plot.set_ylabel('Total Revenue');"
   ]
  },
  {
   "cell_type": "markdown",
   "metadata": {},
   "source": [
    "Based on the bar chart above, there are 5 productions companies that dominate the movie industry based on the highest adjusted revenues: Paramount Pictures, Universal Pictures, Walt Disney Pictures, Twentieth Century Fox, and Columbia Pictures. "
   ]
  },
  {
   "cell_type": "markdown",
   "metadata": {},
   "source": [
    "### 3. Which genres are more popular in the last 5 years and how do that compare to the 1960s?"
   ]
  },
  {
   "cell_type": "code",
   "execution_count": 27,
   "metadata": {},
   "outputs": [
    {
     "data": {
      "text/plain": [
       "genres\n",
       "Drama              1118\n",
       "Thriller            778\n",
       "Comedy              760\n",
       "Action              538\n",
       "Horror              465\n",
       "Romance             311\n",
       "Adventure           298\n",
       "Science Fiction     290\n",
       "Crime               270\n",
       "Family              226\n",
       "Animation           181\n",
       "Documentary         179\n",
       "Fantasy             172\n",
       "Mystery             171\n",
       "Music               105\n",
       "History              57\n",
       "War                  55\n",
       "TV Movie             52\n",
       "Western              20\n",
       "Foreign              11\n",
       "Name: id, dtype: int64"
      ]
     },
     "execution_count": 27,
     "metadata": {},
     "output_type": "execute_result"
    }
   ],
   "source": [
    "# Create a list of the most popular movie genres in the last 5 years (2011 - 2015)\n",
    "last_five = movie_data_split.query('release_year > 2010')\n",
    "group_data = last_five.groupby(['genres'])['id'].count()\n",
    "group_data.sort_values(ascending = False)"
   ]
  },
  {
   "cell_type": "code",
   "execution_count": 28,
   "metadata": {},
   "outputs": [
    {
     "data": {
      "text/plain": [
       "genres\n",
       "Drama              61\n",
       "Comedy             36\n",
       "Romance            26\n",
       "Action             25\n",
       "Adventure          25\n",
       "Horror             24\n",
       "Thriller           23\n",
       "History            15\n",
       "Western            14\n",
       "Family             12\n",
       "Crime              11\n",
       "Mystery            11\n",
       "Science Fiction    10\n",
       "War                 7\n",
       "Fantasy             6\n",
       "Foreign             5\n",
       "Music               4\n",
       "Animation           2\n",
       "Name: id, dtype: int64"
      ]
     },
     "execution_count": 28,
     "metadata": {},
     "output_type": "execute_result"
    }
   ],
   "source": [
    "# Create a list of the most popular movie genres in Year 1960 - 1964\n",
    "first_five = movie_data_split.query('release_year < 1964')\n",
    "group_data = first_five.groupby(['genres'])['id'].count()\n",
    "group_data.sort_values(ascending = False)"
   ]
  },
  {
   "cell_type": "markdown",
   "metadata": {},
   "source": [
    "From the data above, the top 3 genres being produced in these last 5 years were Drama, Thriller, Comedy and the last 3 genres were TV Movie, Western, and Foreign. Genres Drama and Comedy were also included in the top 3 genres produced in 1960 - 1964, which suggested that these two genres were very popular since 50 years ago."
   ]
  },
  {
   "cell_type": "markdown",
   "metadata": {},
   "source": [
    "### 4. Does specific actor/actress contribute to more success?\n",
    "\n",
    "Similar to Question 2, I will answer this question by comparing the revenues of the movies played by certain actor/actress, but this time I will create a proportion of revenue per the movies he or she starred in."
   ]
  },
  {
   "cell_type": "code",
   "execution_count": 29,
   "metadata": {},
   "outputs": [
    {
     "data": {
      "text/plain": [
       "cast\n",
       "Tom Cruise               9.909573e+09\n",
       "Tom Hanks                9.869998e+09\n",
       "Harrison Ford            8.519046e+09\n",
       "Daniel Radcliffe         8.483593e+09\n",
       "Johnny Depp              6.938329e+09\n",
       "Sylvester Stallone       6.404048e+09\n",
       "Bruce Willis             6.312188e+09\n",
       "Robert Downey Jr.        6.105985e+09\n",
       "Sean Connery             6.045493e+09\n",
       "Arnold Schwarzenegger    5.970958e+09\n",
       "Name: revenue_adj, dtype: float64"
      ]
     },
     "execution_count": 29,
     "metadata": {},
     "output_type": "execute_result"
    }
   ],
   "source": [
    "# Calculate the total revenue that each actor/actress get for all their movies\n",
    "actor_revenue = movie_data.groupby('cast')['revenue_adj'].sum()\n",
    "actor_revenue.sort_values(ascending = False).head(10)"
   ]
  },
  {
   "cell_type": "code",
   "execution_count": 30,
   "metadata": {},
   "outputs": [
    {
     "data": {
      "text/plain": [
       "cast\n",
       "Nicolas Cage             39\n",
       "Robert De Niro           35\n",
       "Bruce Willis             34\n",
       "Johnny Depp              32\n",
       "Sylvester Stallone       32\n",
       "Denzel Washington        30\n",
       "Tom Hanks                30\n",
       "Tom Cruise               28\n",
       "Clint Eastwood           27\n",
       "Arnold Schwarzenegger    26\n",
       "Name: revenue_adj, dtype: int64"
      ]
     },
     "execution_count": 30,
     "metadata": {},
     "output_type": "execute_result"
    }
   ],
   "source": [
    "# Calculate the total number of movie that each actor/actress get for all their movies\n",
    "actor_movie = movie_data.groupby('cast')['revenue_adj'].count()\n",
    "actor_movie.sort_values(ascending = False).head(10)"
   ]
  },
  {
   "cell_type": "code",
   "execution_count": 31,
   "metadata": {},
   "outputs": [
    {
     "data": {
      "text/plain": [
       "cast\n",
       "Mark Hamill               1.822719e+09\n",
       "Henry Thomas              1.791694e+09\n",
       "Rod Taylor                1.574815e+09\n",
       "Jonathan Taylor Thomas    1.159592e+09\n",
       "Chris Pratt               1.052369e+09\n",
       "William Moseley           8.360904e+08\n",
       "Phil Harris               8.291219e+08\n",
       "Amy Poehler               7.854116e+08\n",
       "Scott Weinger             7.833063e+08\n",
       "Omar Sharif               7.731786e+08\n",
       "Name: revenue_adj, dtype: float64"
      ]
     },
     "execution_count": 31,
     "metadata": {},
     "output_type": "execute_result"
    }
   ],
   "source": [
    "# Divide the revenue and the number of movies for each actor/actress\n",
    "actor_proportion = actor_revenue/actor_movie\n",
    "top_actor = actor_proportion.sort_values(ascending = False).head(10)\n",
    "top_actor"
   ]
  },
  {
   "cell_type": "code",
   "execution_count": 32,
   "metadata": {},
   "outputs": [
    {
     "data": {
      "text/html": [
       "<div>\n",
       "<style>\n",
       "    .dataframe thead tr:only-child th {\n",
       "        text-align: right;\n",
       "    }\n",
       "\n",
       "    .dataframe thead th {\n",
       "        text-align: left;\n",
       "    }\n",
       "\n",
       "    .dataframe tbody tr th {\n",
       "        vertical-align: top;\n",
       "    }\n",
       "</style>\n",
       "<table border=\"1\" class=\"dataframe\">\n",
       "  <thead>\n",
       "    <tr style=\"text-align: right;\">\n",
       "      <th></th>\n",
       "      <th>id</th>\n",
       "      <th>popularity</th>\n",
       "      <th>original_title</th>\n",
       "      <th>cast</th>\n",
       "      <th>director</th>\n",
       "      <th>runtime</th>\n",
       "      <th>genres</th>\n",
       "      <th>production_company</th>\n",
       "      <th>release_date</th>\n",
       "      <th>vote_count</th>\n",
       "      <th>vote_average</th>\n",
       "      <th>release_year</th>\n",
       "      <th>budget_adj</th>\n",
       "      <th>revenue_adj</th>\n",
       "      <th>release_month</th>\n",
       "    </tr>\n",
       "  </thead>\n",
       "  <tbody>\n",
       "    <tr>\n",
       "      <th>258</th>\n",
       "      <td>353595</td>\n",
       "      <td>0.477840</td>\n",
       "      <td>LEGO DC Comics Super Heroes: Justice League: A...</td>\n",
       "      <td>Mark Hamill</td>\n",
       "      <td>Rick Morales</td>\n",
       "      <td>67</td>\n",
       "      <td>Action|Adventure|Animation|Family</td>\n",
       "      <td>Warner Bros. Animation</td>\n",
       "      <td>8/25/15</td>\n",
       "      <td>17</td>\n",
       "      <td>6.8</td>\n",
       "      <td>2015</td>\n",
       "      <td>0.000000e+00</td>\n",
       "      <td>NaN</td>\n",
       "      <td>8</td>\n",
       "    </tr>\n",
       "    <tr>\n",
       "      <th>1329</th>\n",
       "      <td>11</td>\n",
       "      <td>12.037933</td>\n",
       "      <td>Star Wars</td>\n",
       "      <td>Mark Hamill</td>\n",
       "      <td>George Lucas</td>\n",
       "      <td>121</td>\n",
       "      <td>Adventure|Action|Science Fiction</td>\n",
       "      <td>Lucasfilm</td>\n",
       "      <td>3/20/77</td>\n",
       "      <td>4428</td>\n",
       "      <td>7.9</td>\n",
       "      <td>1977</td>\n",
       "      <td>3.957559e+07</td>\n",
       "      <td>2.789712e+09</td>\n",
       "      <td>3</td>\n",
       "    </tr>\n",
       "    <tr>\n",
       "      <th>7309</th>\n",
       "      <td>1891</td>\n",
       "      <td>5.488441</td>\n",
       "      <td>The Empire Strikes Back</td>\n",
       "      <td>Mark Hamill</td>\n",
       "      <td>Irvin Kershner</td>\n",
       "      <td>124</td>\n",
       "      <td>Adventure|Action|Science Fiction</td>\n",
       "      <td>Lucasfilm</td>\n",
       "      <td>1/1/80</td>\n",
       "      <td>3954</td>\n",
       "      <td>8.0</td>\n",
       "      <td>1980</td>\n",
       "      <td>4.762866e+07</td>\n",
       "      <td>1.424626e+09</td>\n",
       "      <td>1</td>\n",
       "    </tr>\n",
       "    <tr>\n",
       "      <th>7987</th>\n",
       "      <td>1892</td>\n",
       "      <td>4.828854</td>\n",
       "      <td>Return of the Jedi</td>\n",
       "      <td>Mark Hamill</td>\n",
       "      <td>Richard Marquand</td>\n",
       "      <td>135</td>\n",
       "      <td>Adventure|Action|Science Fiction</td>\n",
       "      <td>Lucasfilm</td>\n",
       "      <td>5/23/83</td>\n",
       "      <td>3101</td>\n",
       "      <td>7.8</td>\n",
       "      <td>1983</td>\n",
       "      <td>7.082424e+07</td>\n",
       "      <td>1.253819e+09</td>\n",
       "      <td>5</td>\n",
       "    </tr>\n",
       "  </tbody>\n",
       "</table>\n",
       "</div>"
      ],
      "text/plain": [
       "          id  popularity                                     original_title  \\\n",
       "258   353595    0.477840  LEGO DC Comics Super Heroes: Justice League: A...   \n",
       "1329      11   12.037933                                          Star Wars   \n",
       "7309    1891    5.488441                            The Empire Strikes Back   \n",
       "7987    1892    4.828854                                 Return of the Jedi   \n",
       "\n",
       "             cast          director  runtime  \\\n",
       "258   Mark Hamill      Rick Morales       67   \n",
       "1329  Mark Hamill      George Lucas      121   \n",
       "7309  Mark Hamill    Irvin Kershner      124   \n",
       "7987  Mark Hamill  Richard Marquand      135   \n",
       "\n",
       "                                 genres      production_company release_date  \\\n",
       "258   Action|Adventure|Animation|Family  Warner Bros. Animation      8/25/15   \n",
       "1329   Adventure|Action|Science Fiction               Lucasfilm      3/20/77   \n",
       "7309   Adventure|Action|Science Fiction               Lucasfilm       1/1/80   \n",
       "7987   Adventure|Action|Science Fiction               Lucasfilm      5/23/83   \n",
       "\n",
       "      vote_count  vote_average  release_year    budget_adj   revenue_adj  \\\n",
       "258           17           6.8          2015  0.000000e+00           NaN   \n",
       "1329        4428           7.9          1977  3.957559e+07  2.789712e+09   \n",
       "7309        3954           8.0          1980  4.762866e+07  1.424626e+09   \n",
       "7987        3101           7.8          1983  7.082424e+07  1.253819e+09   \n",
       "\n",
       "      release_month  \n",
       "258               8  \n",
       "1329              3  \n",
       "7309              1  \n",
       "7987              5  "
      ]
     },
     "execution_count": 32,
     "metadata": {},
     "output_type": "execute_result"
    }
   ],
   "source": [
    "# Observe the movies that Mark Hamill (the top actor with highest revenue per movie) starred in\n",
    "movie_data.query('cast == \"Mark Hamill\"')"
   ]
  },
  {
   "cell_type": "code",
   "execution_count": 33,
   "metadata": {},
   "outputs": [
    {
     "data": {
      "image/png": "[encoded data removed]",
      "text/plain": [
       "<matplotlib.figure.Figure at 0x7fc8b9713588>"
      ]
     },
     "metadata": {
      "needs_background": "light"
     },
     "output_type": "display_data"
    }
   ],
   "source": [
    "# Plot the bar chart visualizing the top 10 actors/actresses that have the highest revenue per movie\n",
    "plt.subplots(figsize=(20, 15))\n",
    "ind = np.arange(len(top_actor)) \n",
    "plot_actor = plt.bar(ind, top_actor, color='r', alpha=.7, tick_label = top_actor.index)\n",
    "plt.ylabel('Revenue per Movie')\n",
    "plt.xlabel('Actor/Actress')\n",
    "plt.title('Top 10 Actor/Actress with Highest Revenue per Movie');"
   ]
  },
  {
   "cell_type": "markdown",
   "metadata": {},
   "source": [
    "The result is very interesting because the top 10 actors/actresses that have the highest revenue and most movies produced didn't make it to the highest revenue per movie. The other actors/actresses in the highest revenue/movie list must have produced high revenues for EACH movie they starred in.\n",
    "\n",
    "Mark Hamill, although he only starred in 4 movies, has the largest revenue per movie among all others. Three of the four movies, were the Star Wars series, which are legendary and have lots of fans even until now. "
   ]
  },
  {
   "cell_type": "markdown",
   "metadata": {},
   "source": [
    "### 5. Does the release month affect the popularity of the movie?"
   ]
  },
  {
   "cell_type": "code",
   "execution_count": 34,
   "metadata": {},
   "outputs": [
    {
     "data": {
      "text/plain": [
       "release_month\n",
       "1     1.734580e+10\n",
       "2     2.344856e+10\n",
       "3     4.060892e+10\n",
       "4     3.163203e+10\n",
       "5     6.166758e+10\n",
       "6     8.068578e+10\n",
       "7     5.849903e+10\n",
       "8     3.248540e+10\n",
       "9     3.087393e+10\n",
       "10    3.837981e+10\n",
       "11    5.848813e+10\n",
       "12    8.340784e+10\n",
       "Name: revenue_adj, dtype: float64"
      ]
     },
     "execution_count": 34,
     "metadata": {},
     "output_type": "execute_result"
    }
   ],
   "source": [
    "# Group the total revenue data based on the release month\n",
    "movie_month = movie_data.groupby('release_month')['revenue_adj'].sum()\n",
    "movie_month"
   ]
  },
  {
   "cell_type": "code",
   "execution_count": 35,
   "metadata": {},
   "outputs": [
    {
     "data": {
      "image/png": "[encoded data removed]",
      "text/plain": [
       "<matplotlib.figure.Figure at 0x7fc8b9669588>"
      ]
     },
     "metadata": {
      "needs_background": "light"
     },
     "output_type": "display_data"
    }
   ],
   "source": [
    "# Plot a bar chart to see which month grabs the most revenue\n",
    "plt.subplots(figsize=(20, 15))\n",
    "ind = np.arange(len(movie_month)) \n",
    "plt.bar(ind, movie_month, color='green', alpha=.7, tick_label = movie_month.index)\n",
    "plt.ylabel('Total Revenue')\n",
    "plt.xlabel('Release Month')\n",
    "plt.title('Total Revenue per Release Month');"
   ]
  },
  {
   "cell_type": "markdown",
   "metadata": {},
   "source": [
    "As I suspected, the release months that have the most total revenues are May - July and November - December. Many box office movies are released in these months because of the Summer Holiday and Winter Holiday, thus movie-goers tend to have more time to watch movies during those breaks. "
   ]
  },
  {
   "cell_type": "markdown",
   "metadata": {},
   "source": [
    "<a id='conclusions'></a>\n",
    "## Conclusions\n",
    "\n",
    "> Based on the analysis I have done in this project, I am able to derive some conclusions about the trends in movie industry:\n",
    "> 1. The number of movies released are growing from 1960 to 2015, especially since Year 2000 due to increasing technology in film-making and more access to watch movies thus increase in demand, too.\n",
    "> 2. There are 5 production companies that have been producing the most total revenues: Paramount Pictures, Universal Pictures, Walt Disney Pictures, Twentieth Century Fox, and Columbia Pictures.\n",
    "> 3. Movies with genres Drama and Comedy have been popular in the last 5 years and also in the 1960s. \n",
    "> 4. Actor Mark Hamill (played in the Star Wars series) has the highest revenue per movie among other actors and actresses. \n",
    "> 5. The months during Summer holiday (May - July) and Winter holiday (November - December) produce the highest total revenues for movies released.\n",
    "\n",
    "## Limitations\n",
    "\n",
    "> 1. There are lots of zero values in the adjusted revenue columns (5000+ rows) and I replaced these zero values with null. These rows with zero values might actually affect the analysis.\n",
    "> 2. In doing the analysis on the genres, I separated the genres column into multiple rows with 1 genre only. The combinations of different genres might affect the movie popularity rather than just individual genre.\n",
    "> 3. I assumed that the adjusted revenue column is all in US dollars unit."
   ]
  },
  {
   "cell_type": "code",
   "execution_count": 36,
   "metadata": {},
   "outputs": [
    {
     "data": {
      "text/plain": [
       "0"
      ]
     },
     "execution_count": 36,
     "metadata": {},
     "output_type": "execute_result"
    }
   ],
   "source": [
    "from subprocess import call\n",
    "call(['python', '-m', 'nbconvert', 'Investigate_a_Dataset.ipynb'])"
   ]
  },
  {
   "cell_type": "code",
   "execution_count": null,
   "metadata": {},
   "outputs": [],
   "source": []
  }
 ],
 "metadata": {
  "kernelspec": {
   "display_name": "Python 3",
   "language": "python",
   "name": "python3"
  },
  "language_info": {
   "codemirror_mode": {
    "name": "ipython",
    "version": 3
   },
   "file_extension": ".py",
   "mimetype": "text/x-python",
   "name": "python",
   "nbconvert_exporter": "python",
   "pygments_lexer": "ipython3",
   "version": "3.6.3"
  }
 },
 "nbformat": 4,
 "nbformat_minor": 2
}
